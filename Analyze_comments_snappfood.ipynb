{
 "cells": [
  {
   "metadata": {
    "ExecuteTime": {
     "end_time": "2025-05-21T14:12:25.041734Z",
     "start_time": "2025-05-21T14:12:24.172013Z"
    }
   },
   "cell_type": "code",
   "source": [
    "\n",
    "import pandas as pd\n",
    "import numpy as np\n",
    "\n",
    "\n",
    "initial_data = pd.read_csv(\"Snappfood.csv\", sep=\"\\t\", encoding=\"utf-8-sig\")\n",
    "filtered_data = initial_data.dropna(subset=[\"comment\", \"label\", \"label_id\"])\n",
    "new_data = pd.DataFrame()\n",
    "new_data[\"comment\"] = filtered_data[\"comment\"].dropna().values\n",
    "new_data[\"label\"] = filtered_data[\"label\"].str.lower().dropna().values\n",
    "new_data[\"label_id\"] = filtered_data[\"label_id\"].dropna().values.astype(np.int8)\n",
    "\n",
    "new_data.to_csv(\"new_data.csv\",encoding=\"utf-8-sig\" ,index=False)\n",
    "\n"
   ],
   "id": "46956b593a5b96f3",
   "outputs": [],
   "execution_count": 1
  }
 ],
 "metadata": {
  "kernelspec": {
   "display_name": "Python 3",
   "language": "python",
   "name": "python3"
  },
  "language_info": {
   "codemirror_mode": {
    "name": "ipython",
    "version": 2
   },
   "file_extension": ".py",
   "mimetype": "text/x-python",
   "name": "python",
   "nbconvert_exporter": "python",
   "pygments_lexer": "ipython2",
   "version": "2.7.6"
  }
 },
 "nbformat": 4,
 "nbformat_minor": 5
}
