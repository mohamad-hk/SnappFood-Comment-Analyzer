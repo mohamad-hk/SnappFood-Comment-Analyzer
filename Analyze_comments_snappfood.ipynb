{
 "cells": [
  {
   "metadata": {},
   "cell_type": "markdown",
   "source": "## Extract data(split columns)",
   "id": "78cd1272cac66747"
  },
  {
   "metadata": {
    "ExecuteTime": {
     "end_time": "2025-05-21T19:06:19.621764Z",
     "start_time": "2025-05-21T19:06:19.181847Z"
    }
   },
   "cell_type": "code",
   "source": [
    "import pandas as pd\n",
    "import numpy as np\n",
    "import re\n",
    "\n",
    "\n",
    "initial_data = pd.read_csv(\"Snappfood.csv\", sep=\"\\t\", encoding=\"utf-8-sig\")\n",
    "filtered_data = initial_data.dropna(subset=[\"comment\", \"label\", \"label_id\"])\n",
    "new_data = pd.DataFrame()\n",
    "new_data[\"comment\"] = filtered_data[\"comment\"].dropna().values\n",
    "new_data[\"label\"] = filtered_data[\"label\"].str.lower().dropna().values\n",
    "new_data[\"label_id\"] = filtered_data[\"label_id\"].dropna().values.astype(np.int8)\n",
    "\n",
    "new_data.to_csv(\"new_data.csv\",encoding=\"utf-8-sig\" ,index=False)\n"
   ],
   "id": "f50b19ed796b2939",
   "outputs": [],
   "execution_count": 4
  },
  {
   "metadata": {},
   "cell_type": "markdown",
   "source": "## Data cleaning (remove words with one character adn other signs like: ! ?)",
   "id": "8f6fa536a3947b2a"
  },
  {
   "metadata": {
    "ExecuteTime": {
     "end_time": "2025-05-21T19:06:21.653868Z",
     "start_time": "2025-05-21T19:06:19.627274Z"
    }
   },
   "cell_type": "code",
   "source": [
    "def is_persian(word):\n",
    "    return bool(re.fullmatch(r'[آ-یءئاآبپتثجچحخدذرزژسشصضطظعغفقکگلمنوهی]+', word))\n",
    "\n",
    "\n",
    "temp_data = pd.read_csv(\"new_data.csv\", encoding=\"utf-8-sig\")\n",
    "sad_data = temp_data[(temp_data[\"label_id\"] == 1)]\n",
    "\n",
    "happy_data = temp_data[(temp_data[\"label_id\"] == 0)]\n",
    "sad_temp = sad_data[\"comment\"].str.split()\n",
    "\n",
    "happy_temp = happy_data[\"comment\"].str.split()\n",
    "happy_flat_words = np.hstack(happy_temp.dropna().tolist())\n",
    "sad_flat_words = np.hstack(sad_temp.dropna().tolist())\n",
    "\n",
    "happy_persian = [w for w in happy_flat_words if is_persian(w)]\n",
    "sad_persian = [w for w in sad_flat_words if is_persian(w)]\n"
   ],
   "id": "9fa51c741d8a1510",
   "outputs": [],
   "execution_count": 5
  },
  {
   "metadata": {},
   "cell_type": "markdown",
   "source": "## Count repetition of each words in all words and save in separate csv files",
   "id": "f7ac8cd13a6c460b"
  },
  {
   "metadata": {
    "ExecuteTime": {
     "end_time": "2025-05-21T19:06:23.260176Z",
     "start_time": "2025-05-21T19:06:21.674725Z"
    }
   },
   "cell_type": "code",
   "source": [
    "unique_words, counts = np.unique(happy_persian, return_counts=True)\n",
    "happy_df = pd.DataFrame({\n",
    "    \"word\": unique_words,\n",
    "    \"count_happy\": counts\n",
    "})\n",
    "unique_words, counts = np.unique(sad_persian, return_counts=True)\n",
    "sad_df = pd.DataFrame({\n",
    "    \"word\": unique_words,\n",
    "    \"count_sad\": counts\n",
    "})\n",
    "happy_df.to_csv(\"happy_words.csv\", encoding=\"utf-8-sig\", index=False)\n",
    "sad_df.to_csv(\"sad_words.csv\", encoding=\"utf-8-sig\", index=False)\n"
   ],
   "id": "d1eb2d1d100664e0",
   "outputs": [],
   "execution_count": 6
  },
  {
   "metadata": {},
   "cell_type": "markdown",
   "source": "## Calculate percentage of repetition of each words",
   "id": "2076e564385ce6ac"
  },
  {
   "metadata": {
    "ExecuteTime": {
     "end_time": "2025-05-21T19:06:23.374108Z",
     "start_time": "2025-05-21T19:06:23.283056Z"
    }
   },
   "cell_type": "code",
   "source": [
    "happy_words = pd.read_csv(\"happy_words.csv\")\n",
    "sad_words = pd.read_csv(\"sad_words.csv\")\n",
    "\n",
    "result_df = pd.merge(happy_words, sad_words, on=\"word\", how=\"outer\")\n",
    "result_df = result_df.fillna(0)\n",
    "\n",
    "total_happy_words = happy_words[\"count_happy\"].sum()\n",
    "total_sad_words = sad_words[\"count_sad\"].sum()\n",
    "\n",
    "result_df[\"percent_happy\"] = ((result_df[\"count_happy\"] / total_happy_words) * 100).round(3)\n",
    "result_df[\"percent_sad\"] = ((result_df[\"count_sad\"] / total_sad_words) * 100).round(3)\n",
    "result_df[\"diff\"] = (abs(result_df[\"percent_happy\"] - result_df[\"percent_sad\"])).round(3)"
   ],
   "id": "51044b5ca56ad3d0",
   "outputs": [],
   "execution_count": 7
  },
  {
   "metadata": {},
   "cell_type": "markdown",
   "source": "##  Setting a threshold to find them and remove some exceptions",
   "id": "3989551c042a7aea"
  },
  {
   "metadata": {
    "ExecuteTime": {
     "end_time": "2025-05-21T19:06:23.429257Z",
     "start_time": "2025-05-21T19:06:23.398645Z"
    }
   },
   "cell_type": "code",
   "source": [
    "digits_happy = result_df[\"count_happy\"].astype(int).astype(str).str.len()\n",
    "digits_sad = result_df[\"count_sad\"].astype(int).astype(str).str.len()\n",
    "\n",
    "value_diff = abs(result_df[\"count_happy\"] - result_df[\"count_sad\"])\n",
    "\n",
    "remove_condition = (\n",
    "    ((digits_happy == 4) & (digits_sad == 5)) |\n",
    "    ((digits_happy == 5) & (digits_sad == 5)) |\n",
    "    ((digits_happy == 4) & (digits_sad == 4) & (value_diff < 500))\n",
    "\n",
    ")\n",
    "\n",
    "min_diff = 0.08\n",
    "\n",
    "condition = (\n",
    "    ~remove_condition &\n",
    "    (result_df[\"diff\"] > min_diff)\n",
    ")\n",
    "\n",
    "\n",
    "filtered = result_df[condition]"
   ],
   "id": "efd5a3037c538f74",
   "outputs": [],
   "execution_count": 8
  },
  {
   "metadata": {},
   "cell_type": "markdown",
   "source": "## Save output and display output in console",
   "id": "85125ec6aba02246"
  },
  {
   "metadata": {
    "ExecuteTime": {
     "end_time": "2025-05-21T19:06:23.491649Z",
     "start_time": "2025-05-21T19:06:23.483434Z"
    }
   },
   "cell_type": "code",
   "source": [
    "filtered.to_csv(\"final_result.csv\", encoding=\"utf-8-sig\", index=False)\n",
    "print(filtered.sort_values(\"percent_happy\", ascending=False).head(50)[\"word\"].tolist())\n",
    "print(filtered.sort_values(\"percent_sad\", ascending=False).head(50)[\"word\"].tolist())"
   ],
   "id": "9c7bd763dadd8bb7",
   "outputs": [
    {
     "name": "stdout",
     "output_type": "stream",
     "text": [
      "['خیلی', 'عالی', 'خوب', 'غذا', 'ولی', 'خوشمزه', 'ممنون', 'فقط', 'سفارش', 'این', 'شده', 'رو', 'همیشه', 'رسید', 'من', 'تازه', 'پیتزا', 'مثل', 'همه', 'پیک', 'گرم', 'سریع', 'موقع', 'نبود', 'یک', 'سرد', 'تا', 'ممنونم', 'مرغ', 'تحویل', 'خوش', 'داغ', 'دستم', 'مزه', 'تشکر', 'کل', 'فود', 'چیز', 'بهتر', 'زمان', 'کمی', 'کاملا', 'فوق', 'زود', 'اصلا', 'چی', 'مرسی', 'یکم', 'العاده', 'کیک']\n",
      "['غذا', 'خیلی', 'سفارش', 'شده', 'این', 'رو', 'اصلا', 'من', 'سرد', 'پیتزا', 'ولی', 'نبود', 'بد', 'خوب', 'یک', 'مرغ', 'کاملا', 'بی', 'تا', 'تحویل', 'مزه', 'متاسفانه', 'فقط', 'پایین', 'ساعت', 'دیگه', 'پیک', 'نداشت', 'داده', 'دادم', 'رسید', 'مونده', 'بعد', 'کیک', 'گوشت', 'بار', 'پنیر', 'دو', 'کرده', 'تازه', 'خشک', 'قابل', 'نه', 'همیشه', 'تاخیر', 'هیچ', 'ریخته', 'سوخته', 'همه', 'خمیر']\n"
     ]
    }
   ],
   "execution_count": 9
  }
 ],
 "metadata": {
  "kernelspec": {
   "display_name": "Python 3",
   "language": "python",
   "name": "python3"
  },
  "language_info": {
   "codemirror_mode": {
    "name": "ipython",
    "version": 2
   },
   "file_extension": ".py",
   "mimetype": "text/x-python",
   "name": "python",
   "nbconvert_exporter": "python",
   "pygments_lexer": "ipython2",
   "version": "2.7.6"
  }
 },
 "nbformat": 4,
 "nbformat_minor": 5
}
